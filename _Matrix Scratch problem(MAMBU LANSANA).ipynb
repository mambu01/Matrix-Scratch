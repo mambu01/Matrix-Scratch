{
 "cells": [
  {
   "cell_type": "code",
   "execution_count": 4,
   "metadata": {
    "executionInfo": {
     "elapsed": 1058,
     "status": "ok",
     "timestamp": 1611935281194,
     "user": {
      "displayName": "Alhaji Fortune",
      "photoUrl": "https://lh3.googleusercontent.com/a-/AOh14GiRAlZlGyDc_Zt44Np56ATuWZ8e4dV8jJpSTrPmcDQ=s64",
      "userId": "01218923895066088452"
     },
     "user_tz": 0
    },
    "id": "FL144mKW8aRG"
   },
   "outputs": [],
   "source": [
    "#When expressed in NumPy, it becomes as follows\r\n",
    "import numpy as np\r\n",
    "a_ndarray = np.array([[-1, 2, 3], [4, -5, 6], [7, 8, -9]])\r\n",
    "b_ndarray = np.array([[0, 2, 1], [0, 2, -8], [2, 9, -1]])"
   ]
  },
  {
   "cell_type": "markdown",
   "metadata": {
    "id": "QaO6uT-TyewZ"
   },
   "source": [
    "[Problem 1] Matrix product is calculated manually"
   ]
  },
  {
   "cell_type": "code",
   "execution_count": 5,
   "metadata": {
    "executionInfo": {
     "elapsed": 1281,
     "status": "ok",
     "timestamp": 1611935287300,
     "user": {
      "displayName": "Alhaji Fortune",
      "photoUrl": "https://lh3.googleusercontent.com/a-/AOh14GiRAlZlGyDc_Zt44Np56ATuWZ8e4dV8jJpSTrPmcDQ=s64",
      "userId": "01218923895066088452"
     },
     "user_tz": 0
    },
    "id": "ALjiWK72yh4F"
   },
   "outputs": [],
   "source": [
    "\r\n",
    "#The product of 2 matrices is calculated by multiplying the rows of the first one from left to right with each column of the second matrix from top to bottom.\r\n",
    "\r\n",
    "#The calculation process of A x B is as follows\r\n",
    "\r\n",
    "A = [[-1, 2, 3], [4, -5, 6], [7, 8, -9]] \r\n",
    "B = [[0, 2, 1], [0, 2, -8], [2, 9, -1]]\r\n",
    "\r\n",
    "A0xB0: -10 + 20 +32 = 6\r\n",
    "A0xB1:-12 + 22 +39 = 29\r\n",
    "A0xB2:-11 + 2-8 +3-1 = -20\r\n",
    "A1xB0: 40 - 50 +62 = 12\r\n",
    "A1xB1: 42 - 52 +69 = 52\r\n",
    "A1xB2: 41 - 5-8 +6-1 = 38\r\n",
    "A2xB0: 70 + 80 -92 = -18\r\n",
    "A2xB1: 72 + 82 -99 = -51\r\n",
    "A2xB2: 71 + 8-8 -9*-1 = -48\r\n",
    "\r\n",
    "AxB = [[6, 29, -20], [12, 52, 38], [-18, -52, -48]]"
   ]
  },
  {
   "cell_type": "markdown",
   "metadata": {
    "id": "6QGFVV99LGse"
   },
   "source": [
    "Similarly using Mockdown notation\r\n",
    "\r\n",
    "$$A =\\begin{bmatrix}-1, & 2, & 3\\\\4, & -5, & 6\\\\7, & 8, & -9\\end{bmatrix}$$,\r\n",
    "\r\n",
    "$$B =\\begin{bmatrix}0, & 2, & 1\\\\0, & 2, & -8\\\\2, & 9, & -1\\end{bmatrix}$$,\r\n",
    "\r\n",
    "$$AB =\\begin{bmatrix}0+0+6, & -2+4+27, &-1+(-16)+(-3)\\\\0+0+12, & 8+(-10)+54, & 4+40+(-6)\\\\0+0+(-18), & 14+16+(-81), & 7+(-64)+(-9)\\end{bmatrix}$$,\r\n",
    "\r\n",
    "$$AB =\\begin{bmatrix}6, & 29, & -20\\\\12, & 52, & 38\\\\-18, & -51, & -48\\end {bmatrix}$$"
   ]
  },
  {
   "cell_type": "markdown",
   "metadata": {
    "id": "BUtHhWgdyyTT"
   },
   "source": [
    "[Problem 2] Calculation by NumPy function"
   ]
  },
  {
   "cell_type": "code",
   "execution_count": 6,
   "metadata": {
    "colab": {
     "base_uri": "https://localhost:8080/"
    },
    "executionInfo": {
     "elapsed": 1119,
     "status": "ok",
     "timestamp": 1611935292807,
     "user": {
      "displayName": "Alhaji Fortune",
      "photoUrl": "https://lh3.googleusercontent.com/a-/AOh14GiRAlZlGyDc_Zt44Np56ATuWZ8e4dV8jJpSTrPmcDQ=s64",
      "userId": "01218923895066088452"
     },
     "user_tz": 0
    },
    "id": "TRi5O6w5yxJn",
    "outputId": "90bbc0a7-d668-442d-9f11-0f2acb03c761"
   },
   "outputs": [
    {
     "data": {
      "text/plain": [
       "array([[  6,  29, -20],\n",
       "       [ 12,  52,  38],\n",
       "       [-18, -51, -48]])"
      ]
     },
     "execution_count": 6,
     "metadata": {
      "tags": []
     },
     "output_type": "execute_result"
    }
   ],
   "source": [
    "import  numpy  as np\r\n",
    "a_ndarray = np.array([[-1, 2, 3], [4, -5, 6], [7, 8, -9]])\r\n",
    "b_ndarray = np.array([[0, 2, 1], [0, 2, -8], [2, 9, -1]])\r\n",
    "np.matmul(a_ndarray,b_ndarray)"
   ]
  },
  {
   "cell_type": "markdown",
   "metadata": {
    "id": "PXSUqxGozCGb"
   },
   "source": [
    "[Problem 3] Implementation of calculation of a certain element"
   ]
  },
  {
   "cell_type": "code",
   "execution_count": 7,
   "metadata": {
    "colab": {
     "base_uri": "https://localhost:8080/"
    },
    "executionInfo": {
     "elapsed": 961,
     "status": "ok",
     "timestamp": 1611935306085,
     "user": {
      "displayName": "Alhaji Fortune",
      "photoUrl": "https://lh3.googleusercontent.com/a-/AOh14GiRAlZlGyDc_Zt44Np56ATuWZ8e4dV8jJpSTrPmcDQ=s64",
      "userId": "01218923895066088452"
     },
     "user_tz": 0
    },
    "id": "m7qbYJ1MzC1W",
    "outputId": "885ab716-a949-4884-a3c7-6323b363356d"
   },
   "outputs": [
    {
     "name": "stdout",
     "output_type": "stream",
     "text": [
      "The calculation of 0th row of matrix A and the 0th column of matrix B is: 6\n"
     ]
    }
   ],
   "source": [
    "\r\n",
    "print(f'The calculation of 0th row of matrix A and the 0th column of matrix B is:',a_ndarray[0,0] * b_ndarray[0,0] + a_ndarray[0,1] *b_ndarray[1,0] + a_ndarray[0,2] *b_ndarray[2,0])"
   ]
  },
  {
   "cell_type": "markdown",
   "metadata": {
    "id": "fRqQ8AzizH4M"
   },
   "source": [
    "[Problem 4] Creating a function that performs matrix multiplication"
   ]
  },
  {
   "cell_type": "code",
   "execution_count": 8,
   "metadata": {
    "colab": {
     "base_uri": "https://localhost:8080/"
    },
    "executionInfo": {
     "elapsed": 905,
     "status": "ok",
     "timestamp": 1611935312826,
     "user": {
      "displayName": "Alhaji Fortune",
      "photoUrl": "https://lh3.googleusercontent.com/a-/AOh14GiRAlZlGyDc_Zt44Np56ATuWZ8e4dV8jJpSTrPmcDQ=s64",
      "userId": "01218923895066088452"
     },
     "user_tz": 0
    },
    "id": "uJkjHe7PzLnu",
    "outputId": "0607966a-e7ae-4159-af08-8e1f69a5d79b"
   },
   "outputs": [
    {
     "name": "stdout",
     "output_type": "stream",
     "text": [
      "[[  6.  29. -20.]\n",
      " [ 12.  52.  38.]\n",
      " [-18. -51. -48.]]\n"
     ]
    }
   ],
   "source": [
    "def matrix_multiplication(matrix_A, matrix_B):\r\n",
    "    matrix = np.zeros(9)\r\n",
    "    product = matrix.reshape(3, 3)\r\n",
    "   \r\n",
    "    for x in range(len(matrix_A)):\r\n",
    "        for y in range(len(matrix_B[0])):\r\n",
    "            for z in range(len(matrix_B)):\r\n",
    "                product[x][y] += matrix_A[x][z] * matrix_B[z][y]\r\n",
    "    print(product)\r\n",
    "matrix_multiplication(a_ndarray, b_ndarray)"
   ]
  },
  {
   "cell_type": "markdown",
   "metadata": {
    "id": "SQmnTQ65zPMh"
   },
   "source": [
    "[Problem 5] Judge the input whose calculation is not defined"
   ]
  },
  {
   "cell_type": "code",
   "execution_count": 9,
   "metadata": {
    "executionInfo": {
     "elapsed": 1208,
     "status": "ok",
     "timestamp": 1611935317973,
     "user": {
      "displayName": "Alhaji Fortune",
      "photoUrl": "https://lh3.googleusercontent.com/a-/AOh14GiRAlZlGyDc_Zt44Np56ATuWZ8e4dV8jJpSTrPmcDQ=s64",
      "userId": "01218923895066088452"
     },
     "user_tz": 0
    },
    "id": "H-xi7g3NzbjR"
   },
   "outputs": [],
   "source": [
    "d_ndarray = np.array([[-1, 2, 3], [4, -5, 6]])\r\n",
    "e_ndarray = np.array([[-9, 8, 7], [6, -5, 4]])"
   ]
  },
  {
   "cell_type": "code",
   "execution_count": 10,
   "metadata": {
    "colab": {
     "base_uri": "https://localhost:8080/"
    },
    "executionInfo": {
     "elapsed": 1039,
     "status": "ok",
     "timestamp": 1611935322164,
     "user": {
      "displayName": "Alhaji Fortune",
      "photoUrl": "https://lh3.googleusercontent.com/a-/AOh14GiRAlZlGyDc_Zt44Np56ATuWZ8e4dV8jJpSTrPmcDQ=s64",
      "userId": "01218923895066088452"
     },
     "user_tz": 0
    },
    "id": "LlILYUTjQDRx",
    "outputId": "f2dadc20-df56-4aff-fabb-bcc644cb3938"
   },
   "outputs": [
    {
     "name": "stdout",
     "output_type": "stream",
     "text": [
      "Sorry! the following matrices are not aligned!\n"
     ]
    }
   ],
   "source": [
    "d_ndarray = np.array([[-1, 2, 3], [4, -5, 6]])\r\n",
    "e_ndarray = np.array([[-9, 8, 7], [6, -5, 4]])\r\n",
    "\r\n",
    "if d_ndarray.shape[0] == e_ndarray.shape[1]:\r\n",
    "    print(product_of_matrix(d_ndarray, e_ndarray))\r\n",
    "else:\r\n",
    "    print(\"Sorry! the following matrices are not aligned!\")"
   ]
  },
  {
   "cell_type": "markdown",
   "metadata": {
    "id": "pDmhMQODzy41"
   },
   "source": [
    "[Problem 6] Transposition"
   ]
  },
  {
   "cell_type": "code",
   "execution_count": 11,
   "metadata": {
    "colab": {
     "base_uri": "https://localhost:8080/"
    },
    "executionInfo": {
     "elapsed": 977,
     "status": "ok",
     "timestamp": 1611935328627,
     "user": {
      "displayName": "Alhaji Fortune",
      "photoUrl": "https://lh3.googleusercontent.com/a-/AOh14GiRAlZlGyDc_Zt44Np56ATuWZ8e4dV8jJpSTrPmcDQ=s64",
      "userId": "01218923895066088452"
     },
     "user_tz": 0
    },
    "id": "Isy5cedAz2qk",
    "outputId": "72cb2d51-a254-43e4-9902-006eb780c838"
   },
   "outputs": [
    {
     "name": "stdout",
     "output_type": "stream",
     "text": [
      "The product of the matrix when transposing matrix a is: \n"
     ]
    },
    {
     "data": {
      "text/plain": [
       "array([[ 14,  69, -40],\n",
       "       [ 16,  66,  34],\n",
       "       [-18, -63, -36]])"
      ]
     },
     "execution_count": 11,
     "metadata": {
      "tags": []
     },
     "output_type": "execute_result"
    }
   ],
   "source": [
    "print('The product of the matrix when transposing matrix a is: ')\r\n",
    "np.dot(a_ndarray.T,b_ndarray)"
   ]
  }
 ],
 "metadata": {
  "colab": {
   "authorship_tag": "ABX9TyN8mml/JQmXX7bL9GRIP8w2",
   "collapsed_sections": [],
   "name": "Week2.3_Matrix product.ipynb",
   "provenance": []
  },
  "kernelspec": {
   "display_name": "Python 3",
   "name": "python3"
  }
 },
 "nbformat": 4,
 "nbformat_minor": 0
}
